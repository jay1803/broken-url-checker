{
 "cells": [
  {
   "cell_type": "code",
   "execution_count": 12,
   "metadata": {},
   "outputs": [],
   "source": [
    "import advertools as adv\n",
    "import pandas as pd\n",
    "pd.options.display.max_columns = None"
   ]
  },
  {
   "cell_type": "code",
   "execution_count": null,
   "metadata": {},
   "outputs": [],
   "source": [
    "filename = 'filename'\n",
    "domain = 'domain'\n",
    "nyt_newssitemap = adv.sitemap_to_df('https://domain.com/sitemap.xml')"
   ]
  },
  {
   "cell_type": "code",
   "execution_count": null,
   "metadata": {},
   "outputs": [],
   "source": [
    "adv.crawl(nyt_newssitemap['loc'][:100],\n",
    "          output_file='%s/%s.jl' % (domain, filename))"
   ]
  },
  {
   "cell_type": "code",
   "execution_count": 15,
   "metadata": {},
   "outputs": [],
   "source": [
    "nyt_crawl_df = pd.read_json('%s/%s.jl' % (domain, filename), lines=True)"
   ]
  },
  {
   "cell_type": "code",
   "execution_count": null,
   "metadata": {},
   "outputs": [],
   "source": [
    "links = nyt_crawl_df['links_url'].str.split('@@').explode()\n",
    "\n",
    "# Get links not containing your domain keywords\n",
    "links = links[~links.str.contains(domain)]\n",
    "links"
   ]
  },
  {
   "cell_type": "code",
   "execution_count": null,
   "metadata": {},
   "outputs": [],
   "source": [
    "adv.crawl(links, '%s/%s_check_links.jl' % (domain, filename)) "
   ]
  },
  {
   "cell_type": "code",
   "execution_count": 34,
   "metadata": {},
   "outputs": [],
   "source": [
    "crawled_links = pd.read_json('%s/%s_check_links.jl' % (domain, filename), lines=True)"
   ]
  },
  {
   "cell_type": "code",
   "execution_count": 35,
   "metadata": {},
   "outputs": [],
   "source": [
    "broken_links = crawled_links[crawled_links['status'] >= 400][['url', 'status']]\n",
    "broken_links.to_csv('%s/%s_broken_links.csv' % (domain, filename))"
   ]
  }
 ],
 "metadata": {
  "interpreter": {
   "hash": "aabdbcbbf86a2a2b7d732e65dfc9fb315164d8be0c48d9c0d6b57ef02b3e62b8"
  },
  "kernelspec": {
   "display_name": "Python 3.10.1 64-bit ('.env': venv)",
   "language": "python",
   "name": "python3"
  },
  "language_info": {
   "codemirror_mode": {
    "name": "ipython",
    "version": 3
   },
   "file_extension": ".py",
   "mimetype": "text/x-python",
   "name": "python",
   "nbconvert_exporter": "python",
   "pygments_lexer": "ipython3",
   "version": "3.10.1"
  },
  "orig_nbformat": 4
 },
 "nbformat": 4,
 "nbformat_minor": 2
}
